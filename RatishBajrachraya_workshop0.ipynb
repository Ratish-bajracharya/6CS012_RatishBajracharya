{
  "nbformat": 4,
  "nbformat_minor": 0,
  "metadata": {
    "colab": {
      "provenance": []
    },
    "kernelspec": {
      "name": "python3",
      "display_name": "Python 3"
    },
    "language_info": {
      "name": "python"
    }
  },
  "cells": [
    {
      "cell_type": "markdown",
      "source": [
        "Exercise on Functions:"
      ],
      "metadata": {
        "id": "L2eKzSqCuMLV"
      }
    },
    {
      "cell_type": "markdown",
      "source": [
        "Task - 1:"
      ],
      "metadata": {
        "id": "d3qKA8ySuNOi"
      }
    },
    {
      "cell_type": "code",
      "execution_count": null,
      "metadata": {
        "collapsed": true,
        "id": "dl9q86dR0rOS"
      },
      "outputs": [],
      "source": [
        "def convert_l(value, from_unit):\n",
        "  if from_unit == 'm':\n",
        "    return value * 3.28084\n",
        "  elif from_unit == 'ft':\n",
        "    return value / 3.28084\n",
        "  else:\n",
        "      raise ValueError(\"Unsupported lenth unit.\")\n",
        "\n",
        "def convert_w(value, from_unit):\n",
        "    if from_unit == 'kg':\n",
        "      return value * 2.20462\n",
        "    elif from_unit == 'lbs':\n",
        "      return value / 2.20462\n",
        "    else:\n",
        "        raise ValueError(\"Unsupported weight unit.\")\n",
        "\n",
        "def convert_v(value, from_unit):\n",
        "  if from_unit == 'l':\n",
        "    return value * 0.264172\n",
        "  elif from_unit == 'gal':\n",
        "    return value / 0.264172\n",
        "  else:\n",
        "    raise ValueError(\"Unsupported volume unit.\")\n",
        "\n",
        "def main():\n",
        "  print(\"unit converter\")\n",
        "  print(\"1. length\")\n",
        "  print(\"2. weight\")\n",
        "  print(\"3. volume\")\n",
        "  try:\n",
        "    choice = int(input(\"Choose conversion type (1-3):\"))\n",
        "    if choice == 1:\n",
        "      value = float(input(\"enter the value of length:\"))\n",
        "      unit = input(\"enter the unit (m/ft):\").strip().lower()\n",
        "      convert = convert_l(value, unit)\n",
        "      print(f\"converted value:{converted:2f}\")\n",
        "    elif choice == 2:\n",
        "        value = float (input(\"enter the value of weight:\"))\n",
        "        unit = input(\"enter the unit (kg/lbs):\").strip().lower()\n",
        "        convert = convert_w(value, unit)\n",
        "        print(f\"converted value:{converted:2f}\")\n",
        "    elif choice == 3:\n",
        "          value = float (input(\"enter the value of volume:\"))\n",
        "          unit = input(\"enter the unit(l/gal):\").strip().lower()\n",
        "          converted = convert_v(value, unit)\n",
        "          print(f\"converted value:{converted:2f}\")\n",
        "    else:\n",
        "      print(\"invalid choice.\")\n",
        "  except ValueError as e:\n",
        "     print(f\"Error:{e}.\")\n",
        "     if __name__ == \"__main__\":\n",
        "         main()\n",
        "\n"
      ]
    },
    {
      "cell_type": "markdown",
      "source": [
        "Task - 2:"
      ],
      "metadata": {
        "id": "ZoZnJ_XeuVxP"
      }
    },
    {
      "cell_type": "code",
      "source": [
        "def get_numbers():\n",
        "  while True:\n",
        "      try:\n",
        "        return[float(num) for num in input (\"enter numbers separated by spaces:\").split() ]\n",
        "      except ValueError:\n",
        "        print(\"invalid input.\")\n",
        "def main():\n",
        "   print(\"choose an operater:\")\n",
        "   print(\"1. sum\")\n",
        "   print(\"2. Average\")\n",
        "   print(\"3. Maximum\")\n",
        "   print(\"4. Minimum\")\n",
        "   choice = input(\"enter choice (1-4):\")\n",
        "   numbers = get_numbers()\n",
        "   if choice == '1':\n",
        "    print(\"sum:\", sum(numbers))\n",
        "   elif choice  == '2':\n",
        "    print(\"Average:\", sum(numbers)/len(numbers))\n",
        "   elif choice == '3':\n",
        "    print(\"Maximum:\", max(numbers))\n",
        "   elif choice == '4':\n",
        "    print(\"Minimum:\" , min(numbers))\n",
        "   else:\n",
        "    print(\"invalid choice.\")\n",
        "if __name__ == \"__main__\":\n",
        "    main()\n"
      ],
      "metadata": {
        "colab": {
          "base_uri": "https://localhost:8080/"
        },
        "id": "84RwsX6xJ3k3",
        "outputId": "a6d038a4-44bd-4181-ac9a-b5d58e3c3e58"
      },
      "execution_count": null,
      "outputs": [
        {
          "output_type": "stream",
          "name": "stdout",
          "text": [
            "choose an operater:\n",
            "1. sum\n",
            "2. Average\n",
            "3. Maximum\n",
            "4. Minimum\n",
            "enter choice (1-4):4\n",
            "enter numbers separated by spaces:4 7 9 \n",
            "Minimum: 4.0\n"
          ]
        }
      ]
    },
    {
      "cell_type": "markdown",
      "source": [
        "Exercise on List Manipulation:"
      ],
      "metadata": {
        "id": "dEXWQHfPubTx"
      }
    },
    {
      "cell_type": "markdown",
      "source": [
        "1. Extract Every Other Element:"
      ],
      "metadata": {
        "id": "aozhVDVVufE3"
      }
    },
    {
      "cell_type": "code",
      "source": [
        "def extract_every_other(lst):\n",
        "  return lst[::2]\n",
        "  lst = [1,2,3,4,5,6]\n",
        "  output_list = extract_every_other(lst)\n",
        "  print(output_list)"
      ],
      "metadata": {
        "id": "OU0fy2cdTIPG"
      },
      "execution_count": null,
      "outputs": []
    },
    {
      "cell_type": "markdown",
      "source": [
        "Slice a Sublist:"
      ],
      "metadata": {
        "id": "BcqzCyMxuiOD"
      }
    },
    {
      "cell_type": "code",
      "source": [
        "def get_sublist(lst, start, end):\n",
        "  return lst[start:end+1]\n",
        "  lst =[1,2,3,4,5,6]\n",
        "  start = 1\n",
        "  end = 5\n",
        "  output_list = get_sublist(lst, start, end)\n",
        "  print(output_sublist)"
      ],
      "metadata": {
        "id": "Lmb8mD_jVCS0"
      },
      "execution_count": null,
      "outputs": []
    },
    {
      "cell_type": "markdown",
      "source": [
        "Reverse a List Using Slicing:"
      ],
      "metadata": {
        "id": "AQqkDLqJulu-"
      }
    },
    {
      "cell_type": "code",
      "source": [
        "def reverse_list(lst):\n",
        "  return lst[::-1]\n",
        "  input_list = [1,2,3,4,5]\n",
        "  reversed_list = reverse_list(input_list)\n",
        "  print(reversed_list)"
      ],
      "metadata": {
        "id": "dgKQ8bY7WMWT"
      },
      "execution_count": null,
      "outputs": []
    },
    {
      "cell_type": "markdown",
      "source": [
        "Remove the First and Last Elements:"
      ],
      "metadata": {
        "id": "qRKKxEoiuqg2"
      }
    },
    {
      "cell_type": "code",
      "source": [
        "def remove_first_last(lst):\n",
        "  return lst[1:-1]\n",
        "  input_lst = [1,2,3,4,5]\n",
        "  resulting_sublist = remove_first_last(input_list)\n",
        "  print(resulting_sublist)"
      ],
      "metadata": {
        "id": "JLNer_OSW5-e"
      },
      "execution_count": null,
      "outputs": []
    },
    {
      "cell_type": "markdown",
      "source": [
        "Get the First n Elements:"
      ],
      "metadata": {
        "id": "QLB5rj4Zus5f"
      }
    },
    {
      "cell_type": "code",
      "source": [
        "def get_first_n(lst, n):\n",
        "  return lst[:n]\n",
        "  input_list = [1,2,3,4,5]\n",
        "  n = 3\n",
        "  first_n_elements = get_first_n(input_list, n)\n",
        "  print(first_n_elements)"
      ],
      "metadata": {
        "id": "ZYvDsm3EXuiu"
      },
      "execution_count": null,
      "outputs": []
    },
    {
      "cell_type": "markdown",
      "source": [
        "Extract Elements from the End:"
      ],
      "metadata": {
        "id": "RuThrecauwKG"
      }
    },
    {
      "cell_type": "code",
      "source": [
        "def get_last_n(lst, n):\n",
        "  return lst[-n:]\n",
        "  input_list =[1,2,3,4,5]\n",
        "  n = 2\n",
        "  last_n_elements = get_last_n(input_list, n)\n",
        "  print(last_n_elements)"
      ],
      "metadata": {
        "id": "hFZWOsDYYgAC"
      },
      "execution_count": null,
      "outputs": []
    },
    {
      "cell_type": "markdown",
      "source": [
        "Extract Elements in Reverse Order:"
      ],
      "metadata": {
        "id": "ZWH_rNihuz50"
      }
    },
    {
      "cell_type": "code",
      "source": [
        "def reverse_skip(lst):\n",
        "  return lst[-2::-2]\n",
        "  input_list = [1,2,3,4,5,6]\n",
        "  result = reverse_skip(input_list)\n",
        "  print(result)"
      ],
      "metadata": {
        "id": "iU2xmHQcZR5N"
      },
      "execution_count": null,
      "outputs": []
    },
    {
      "cell_type": "markdown",
      "source": [
        "Exercise on Nested List:"
      ],
      "metadata": {
        "id": "H4jJqbc7aHA5"
      }
    },
    {
      "cell_type": "markdown",
      "source": [
        "Flatten a Nested List:"
      ],
      "metadata": {
        "id": "A0oWb5q9u7Ua"
      }
    },
    {
      "cell_type": "code",
      "source": [
        "def flatten(lst):\n",
        "  flatten_list = []\n",
        "  for sublist in lst:\n",
        "    for item in sublist:\n",
        "      flatten_list.append(item)\n",
        "      return flatten_list\n",
        "      nested_list = [[1,2], [3,4],[5]]\n",
        "      flattened = flatten(nested_list)\n",
        "      print(flattened)"
      ],
      "metadata": {
        "id": "0vJ0a7ANZ64W"
      },
      "execution_count": null,
      "outputs": []
    },
    {
      "cell_type": "markdown",
      "source": [
        "Accessing Nested List Elements:"
      ],
      "metadata": {
        "id": "_k_T4ZwTu-EB"
      }
    },
    {
      "cell_type": "code",
      "source": [
        "def access_nested_element(lst, indices):\n",
        "  element = lst\n",
        "  for index in indices:\n",
        "    element = element[index]\n",
        "    return element\n",
        "    lst = [[1,2,3],[4,5,6],[7,8,9]]\n",
        "    indices = [1,2]\n",
        "    result = access_nested_element(lst, indices)\n",
        "    print(result)"
      ],
      "metadata": {
        "id": "Z8LKBfs8afLE"
      },
      "execution_count": null,
      "outputs": []
    },
    {
      "cell_type": "markdown",
      "source": [
        "Sum of All Elements in a Nested List:"
      ],
      "metadata": {
        "id": "OX3c6RLVvCHH"
      }
    },
    {
      "cell_type": "code",
      "source": [
        "def sum_nested(lst):\n",
        "  total = 0\n",
        "  for items in lst:\n",
        "    if isinstance(items, list):\n",
        "      total += sum_nested(item)\n",
        "    else:\n",
        "      total += item\n",
        "      return total\n",
        "      nested_list = [[1,2],[3,4],[4,5], 6]\n",
        "      result = sum_nested(nested_list)\n",
        "      print(result)"
      ],
      "metadata": {
        "id": "eMKvnKDJdqwK"
      },
      "execution_count": null,
      "outputs": []
    },
    {
      "cell_type": "markdown",
      "source": [
        "Remove Specific Element from a Nested List:"
      ],
      "metadata": {
        "id": "0Mt1oFUBvFcz"
      }
    },
    {
      "cell_type": "code",
      "source": [
        "def remove_element(lst, elem):\n",
        "  for i in range(len(lst)):\n",
        "    if isinstance(lst[i], list):\n",
        "      lst [i] = remove_element(lst[i], elem)\n",
        "    else:\n",
        "      while elem in lst [i]:\n",
        "        lst[i].remove(elem)\n",
        "    return lst\n",
        "    nested_list = [[1,2],[3,2],[4,5]]\n",
        "    elem = 2\n",
        "    result = remove_element(nested_list, elem)\n",
        "    print(result)"
      ],
      "metadata": {
        "id": "BKV-qkE-fO0H"
      },
      "execution_count": null,
      "outputs": []
    },
    {
      "cell_type": "markdown",
      "source": [
        "Find the Maximum Element in a Nested List:"
      ],
      "metadata": {
        "id": "7AYpgq7CvIq0"
      }
    },
    {
      "cell_type": "code",
      "source": [
        "def find_max(lst):\n",
        "  max_element = float('-inf')\n",
        "  for item in lst:\n",
        "    if isinstance(item, list):\n",
        "      max_element = max (max_element, find_max(item))\n",
        "    else:\n",
        "      max_element = max(max_element, item)\n",
        "    return max_element\n",
        "    nested_list = [[1,2],[3,[4,5],6]]\n",
        "    result = find_max(nested_list)\n",
        "    print(result)"
      ],
      "metadata": {
        "id": "IJkg6yLQg1Bv"
      },
      "execution_count": null,
      "outputs": []
    },
    {
      "cell_type": "markdown",
      "source": [
        "Count Occurrences of an Element in a Nested List:"
      ],
      "metadata": {
        "id": "ayxF5v3rvOXD"
      }
    },
    {
      "cell_type": "code",
      "source": [
        "def count_occurrences(lst, elem):\n",
        "  count = 0\n",
        "  for items in lst:\n",
        "    if isinstance(item, list):\n",
        "      count += count_occurrences(item, elem)\n",
        "    else:\n",
        "      count += item == elem\n",
        "    return count\n",
        "    nested_list = [[1,2],[2,3],[2,4]]\n",
        "    elem = 2\n",
        "    result = count_occurrences(nested_list, elem)\n",
        "    print(result)"
      ],
      "metadata": {
        "id": "JBkp0t9OiqxQ"
      },
      "execution_count": null,
      "outputs": []
    },
    {
      "cell_type": "markdown",
      "source": [
        "Flatten a List of Lists of Lists:"
      ],
      "metadata": {
        "id": "dIOenvChvTyz"
      }
    },
    {
      "cell_type": "code",
      "source": [
        "def deep_flatten(lst):\n",
        "  flattened_list = []\n",
        "  for item in lst:\n",
        "    if isinstance(item, list):\n",
        "      flattened_list.extend(deep_flatten(item))\n",
        "    else:\n",
        "      flattened_list.append(item)\n",
        "    return flattened_list\n",
        "    nested_list = [[[1,2],[3,4],[5,6],[6,7]]]\n",
        "    result = deep_flatten(nested_list)\n",
        "    print(result)"
      ],
      "metadata": {
        "id": "Ts_CeoV8j4E9"
      },
      "execution_count": null,
      "outputs": []
    },
    {
      "cell_type": "markdown",
      "source": [
        "Nested List Average:"
      ],
      "metadata": {
        "id": "Q--oUT7zvYDS"
      }
    },
    {
      "cell_type": "code",
      "source": [
        "def average_nested(lst):\n",
        "  total = 0\n",
        "  count = 0\n",
        "  def flatten(lst):\n",
        "    nonlocal total, count\n",
        "    for item in lst:\n",
        "      if isinstance(item, list):\n",
        "        flatten(item)\n",
        "      else:\n",
        "        total += item\n",
        "        count += 1\n",
        "    flatten(lst)\n",
        "  nested_list = [[1,2],[3,4],[5,6]]\n",
        "  result = average_nested(nested_list)\n",
        "  print(result)"
      ],
      "metadata": {
        "id": "MsceTfVjlZ01"
      },
      "execution_count": null,
      "outputs": []
    },
    {
      "cell_type": "markdown",
      "source": [
        "Numpy"
      ],
      "metadata": {
        "id": "KyA-s8hpsUME"
      }
    },
    {
      "cell_type": "code",
      "source": [
        "import numpy as np\n",
        "\n",
        "arr_1d = np.array([6, 7, 8 , 9 ,10])\n",
        "arr_2d = np. array ([[6,7,8], [9, 10, 11]])\n",
        "arr_zero = np.zeros((6,7))\n",
        "arr_ones = np.ones((7,6))\n",
        "arr_random = np.random.rand(7,7)\n",
        "\n",
        "print(\"1D Array:\", arr_1d)\n",
        "print(\"2D Array:\",arr_2d)\n",
        "print (\"Zero Array:\",arr_zero)\n",
        "print (\"ones Array:\", arr_ones)\n",
        "print (\"random Array:\", arr_random)\n",
        "\n",
        "reshape_arr = arr_1d.reshape(5,1)\n",
        "print(\"Reshaped 1D Array:\", reshape_arr)\n",
        "\n",
        "\n",
        "print(\"Element at (0,1):\", arr_2d[0,1])\n",
        "print(\"first row:\", arr_2d[0])\n",
        "print(\"Last column:\", arr_2d[:,-1])"
      ],
      "metadata": {
        "id": "hp9Iaj06mwBF",
        "colab": {
          "base_uri": "https://localhost:8080/"
        },
        "outputId": "b9fe1003-808d-489c-9ace-246b9004a5c3"
      },
      "execution_count": null,
      "outputs": [
        {
          "output_type": "stream",
          "name": "stdout",
          "text": [
            "1D Array: [ 6  7  8  9 10]\n",
            "2D Array: [[ 6  7  8]\n",
            " [ 9 10 11]]\n",
            "Zero Array: [[0. 0. 0. 0. 0. 0. 0.]\n",
            " [0. 0. 0. 0. 0. 0. 0.]\n",
            " [0. 0. 0. 0. 0. 0. 0.]\n",
            " [0. 0. 0. 0. 0. 0. 0.]\n",
            " [0. 0. 0. 0. 0. 0. 0.]\n",
            " [0. 0. 0. 0. 0. 0. 0.]]\n",
            "ones Array: [[1. 1. 1. 1. 1. 1.]\n",
            " [1. 1. 1. 1. 1. 1.]\n",
            " [1. 1. 1. 1. 1. 1.]\n",
            " [1. 1. 1. 1. 1. 1.]\n",
            " [1. 1. 1. 1. 1. 1.]\n",
            " [1. 1. 1. 1. 1. 1.]\n",
            " [1. 1. 1. 1. 1. 1.]]\n",
            "random Array: [[0.56344251 0.70456973 0.58736269 0.3894193  0.96015638 0.12820117\n",
            "  0.75471235]\n",
            " [0.85522952 0.09305274 0.85851747 0.27012992 0.77383268 0.51237163\n",
            "  0.61095011]\n",
            " [0.88378686 0.20667244 0.56229253 0.70613531 0.69300281 0.35696129\n",
            "  0.15805604]\n",
            " [0.38677209 0.67047126 0.47162918 0.72656999 0.33031948 0.47016884\n",
            "  0.41221705]\n",
            " [0.70239629 0.61042079 0.93167747 0.77775342 0.90437421 0.67846392\n",
            "  0.85843267]\n",
            " [0.96811927 0.6323935  0.94699708 0.09136014 0.26109145 0.51856244\n",
            "  0.16275096]\n",
            " [0.3998657  0.11326558 0.9707969  0.19307663 0.53893839 0.15412524\n",
            "  0.39455299]]\n",
            "Reshaped 1D Array: [[ 6]\n",
            " [ 7]\n",
            " [ 8]\n",
            " [ 9]\n",
            " [10]]\n",
            "Element at (0,1): 7\n",
            "first row: [6 7 8]\n",
            "Last column: [ 8 11]\n"
          ]
        }
      ]
    },
    {
      "cell_type": "code",
      "source": [
        "a = np.array([1,2,3,4,5])\n",
        "b = np.array([6,7,8,9,10])\n",
        "\n",
        "print(\"Addition:\", a + b)\n",
        "print(\"subtraction:\", a - b)\n",
        "print(\"Multiplication:\", a * b)\n",
        "print(\"Division:\", a / b)\n",
        "\n",
        "print(\"Exponential:\", np.exp(a))\n",
        "print(\"square root :\", np.sqrt(a))\n",
        "print(\"Logarithm:\", np.log(a))\n",
        "\n",
        "matrix_A = np.array([[4,5],[6,7]])\n",
        "matrix_B = np.array([[8,9],[10,11]])\n",
        "\n",
        "print(\"DOt Product:\", np.dot(matrix_A, matrix_B))\n",
        "print(\"Inverse of A:\", np.linalg.inv(matrix_A))\n",
        "print(\"Determinant of A:\", np.linalg.det(matrix_A))"
      ],
      "metadata": {
        "id": "qlO2uYrbyNAr",
        "colab": {
          "base_uri": "https://localhost:8080/"
        },
        "outputId": "3580f191-5bee-4971-9380-7745fc141e4e"
      },
      "execution_count": null,
      "outputs": [
        {
          "output_type": "stream",
          "name": "stdout",
          "text": [
            "Addition: [ 7  9 11 13 15]\n",
            "subtraction: [-5 -5 -5 -5 -5]\n",
            "Multiplication: [ 6 14 24 36 50]\n",
            "Division: [0.16666667 0.28571429 0.375      0.44444444 0.5       ]\n",
            "Exponential: [  2.71828183   7.3890561   20.08553692  54.59815003 148.4131591 ]\n",
            "square root : [1.         1.41421356 1.73205081 2.         2.23606798]\n",
            "Logarithm: [0.         0.69314718 1.09861229 1.38629436 1.60943791]\n",
            "DOt Product: [[ 82  91]\n",
            " [118 131]]\n",
            "Inverse of A: [[-3.5  2.5]\n",
            " [ 3.  -2. ]]\n",
            "Determinant of A: -2.000000000000003\n"
          ]
        }
      ]
    },
    {
      "cell_type": "code",
      "source": [
        "\n",
        "arr = np.array([40,50,60,70,80,])\n",
        "print(\"First three elements:\", arr[:3])\n",
        "print(\"last two elements:\", arr[-2:])\n",
        "print(\"Every other elements:\", arr[::2])\n",
        "\n",
        "\n",
        "arr_2d = np.array([[3,4,5],[6,7,8],[9,10,11]])\n",
        "print (\"First two rows:\", arr_2d[:2, :])\n",
        "print (\"Last column:\", arr_2d[:, -1])\n"
      ],
      "metadata": {
        "id": "i7SiHQZR1NDZ",
        "colab": {
          "base_uri": "https://localhost:8080/"
        },
        "outputId": "32d5c3a1-c344-4d96-99f6-693575c9634b"
      },
      "execution_count": null,
      "outputs": [
        {
          "output_type": "stream",
          "name": "stdout",
          "text": [
            "First three elements: [40 50 60]\n",
            "last two elements: [70 80]\n",
            "Every other elements: [40 60 80]\n",
            "First two rows: [[3 4 5]\n",
            " [6 7 8]]\n",
            "Last column: [ 5  8 11]\n"
          ]
        }
      ]
    },
    {
      "cell_type": "code",
      "source": [
        "A = np.array([[4],[5],[6]])\n",
        "B = np.array([30 , 40 ,50])\n",
        "\n",
        "c = A + B\n",
        "print(\"Broadcasting result:\",c)"
      ],
      "metadata": {
        "id": "WarSVIiO22Kj",
        "colab": {
          "base_uri": "https://localhost:8080/"
        },
        "outputId": "fdebe76e-1196-4f5e-f089-b461647baf6b"
      },
      "execution_count": null,
      "outputs": [
        {
          "output_type": "stream",
          "name": "stdout",
          "text": [
            "Broadcasting result: [[34 44 54]\n",
            " [35 45 55]\n",
            " [36 46 56]]\n"
          ]
        }
      ]
    },
    {
      "cell_type": "code",
      "source": [
        "arr = np.array([3,4,5])\n",
        "try:\n",
        "  print(arr[5])\n",
        "except IndexError as e:\n",
        "  print(\"IndexError:\", e)\n",
        "\n",
        "try:\n",
        "  a = np.array([3,4,5])\n",
        "  b = np.array([[6,7],[8,9]])\n",
        "  print(a + b)\n",
        "except ValueError as e:\n",
        "  print(\"ValueError:\", e)"
      ],
      "metadata": {
        "id": "8BKA7Zao3mti",
        "colab": {
          "base_uri": "https://localhost:8080/"
        },
        "outputId": "9e4c3b50-b0c9-4294-ffe3-a2c6d49c75f0"
      },
      "execution_count": null,
      "outputs": [
        {
          "output_type": "stream",
          "name": "stdout",
          "text": [
            "IndexError: index 5 is out of bounds for axis 0 with size 3\n",
            "ValueError: operands could not be broadcast together with shapes (3,) (2,2) \n"
          ]
        }
      ]
    },
    {
      "cell_type": "markdown",
      "source": [
        "Experiment: How Fast is Numpy?"
      ],
      "metadata": {
        "id": "PrRSczgQ95Zz"
      }
    },
    {
      "cell_type": "code",
      "source": [
        "import numpy as np\n",
        "import time\n",
        "\n",
        "# List size\n",
        "size = 1_000_000\n",
        "\n",
        "# Generate random lists and NumPy arrays\n",
        "a_list = list(range(size))\n",
        "b_list = list(range(size))\n",
        "\n",
        "a_np = np.arange(size)\n",
        "b_np = np.arange(size)\n",
        "\n",
        "# Element-wise Addition\n",
        "start = time.time()\n",
        "c_list = [a + b for a, b in zip(a_list, b_list)]\n",
        "end = time.time()\n",
        "print(f\"Python List Addition Time: {end - start:.5f} seconds\")\n",
        "\n",
        "start = time.time()\n",
        "c_np = a_np + b_np\n",
        "end = time.time()\n",
        "print(f\"NumPy Array Addition Time: {end - start:.5f} seconds\")\n",
        "\n",
        "# Element-wise Multiplication\n",
        "start = time.time()\n",
        "d_list = [a * b for a, b in zip(a_list, b_list)]\n",
        "end = time.time()\n",
        "print(f\"Python List Multiplication Time: {end - start:.5f} seconds\")\n",
        "\n",
        "start = time.time()\n",
        "d_np = a_np * b_np\n",
        "end = time.time()\n",
        "print(f\"NumPy Array Multiplication Time: {end - start:.5f} seconds\")\n",
        "\n",
        "# Dot Product\n",
        "start = time.time()\n",
        "dot_list = sum(a * b for a, b in zip(a_list, b_list))\n",
        "end = time.time()\n",
        "print(f\"Python List Dot Product Time: {end - start:.5f} seconds\")\n",
        "\n",
        "start = time.time()\n",
        "dot_np = np.dot(a_np, b_np)\n",
        "end = time.time()\n",
        "print(f\"NumPy Array Dot Product Time: {end - start:.5f} seconds\")\n",
        "\n",
        "# Matrix Multiplication\n",
        "matrix_size = 1000\n",
        "A_list = [[1] * matrix_size for _ in range(matrix_size)]\n",
        "B_list = [[1] * matrix_size for _ in range(matrix_size)]\n",
        "\n",
        "start = time.time()\n",
        "C_list = [[sum(A_list[i][k] * B_list[k][j] for k in range(matrix_size)) for j in range(matrix_size)] for i in range(matrix_size)]\n",
        "end = time.time()\n",
        "print(f\"Python List Matrix Multiplication Time: {end - start:.5f} seconds\")\n",
        "\n",
        "A_np = np.ones((matrix_size, matrix_size))\n",
        "B_np = np.ones((matrix_size, matrix_size))\n",
        "\n",
        "start = time.time()\n",
        "C_np = np.dot(A_np, B_np)\n",
        "end = time.time()\n",
        "print(f\"NumPy Array Matrix Multiplication Time: {end - start:.5f} seconds\")\n"
      ],
      "metadata": {
        "colab": {
          "base_uri": "https://localhost:8080/"
        },
        "id": "wCmlccla95sj",
        "outputId": "f9d7cdef-ce77-4794-b6bc-14bcbcf9b6a2"
      },
      "execution_count": null,
      "outputs": [
        {
          "output_type": "stream",
          "name": "stdout",
          "text": [
            "Python List Addition Time: 0.12147 seconds\n",
            "NumPy Array Addition Time: 0.01433 seconds\n",
            "Python List Multiplication Time: 0.11618 seconds\n",
            "NumPy Array Multiplication Time: 0.01344 seconds\n",
            "Python List Dot Product Time: 0.08041 seconds\n",
            "NumPy Array Dot Product Time: 0.00369 seconds\n"
          ]
        }
      ]
    }
  ]
}